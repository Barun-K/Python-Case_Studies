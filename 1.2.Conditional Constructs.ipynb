{
 "cells": [
  {
   "cell_type": "code",
   "execution_count": 1,
   "metadata": {},
   "outputs": [
    {
     "name": "stdout",
     "output_type": "stream",
     "text": [
      "Enter amount value for hourly rate : 2\n",
      "Enter no. of hours worked : 45\n",
      "Pay for 40+ hours worked =  95.0\n"
     ]
    }
   ],
   "source": [
    "# 1)Program to calculate pay\n",
    "\n",
    "hourly_rate = float(input(\"Enter amount value for hourly rate : \"))\n",
    "hours_worked = float(input(\"Enter no. of hours worked : \"))\n",
    "\n",
    "if (hours_worked > 40):\n",
    "    print(\"Pay for 40+ hours worked = \",(hourly_rate*(1.5*(hours_worked-40)+40)))\n",
    "else :\n",
    "    print(\"Pay for 40- hours worked = \",(hourly_rate*hours_worked))"
   ]
  },
  {
   "cell_type": "code",
   "execution_count": null,
   "metadata": {},
   "outputs": [],
   "source": [
    "# Using try and except : (Throws error and message if entered a string)\n",
    "\n",
    "inp = input(\"Enter Fahrenheit Temperature : \")\n",
    "\n",
    "try:\n",
    "    fahr = float(inp)\n",
    "    cel = (fahr - 32)*5.0/9.0\n",
    "    print(cel)\n",
    "except:\n",
    "    print(\"Please enter a number\")"
   ]
  },
  {
   "cell_type": "code",
   "execution_count": 2,
   "metadata": {},
   "outputs": [
    {
     "name": "stdout",
     "output_type": "stream",
     "text": [
      "Enter amount value for hourly rate : 2\n",
      "Enter no. of hours worked : 45\n",
      "95.0\n"
     ]
    }
   ],
   "source": [
    "# 1)Program to calculate pay using try and except\n",
    "\n",
    "hr = input(\"Enter amount value for hourly rate : \")\n",
    "hw = input(\"Enter no. of hours worked : \")\n",
    "\n",
    "try:\n",
    "    hourly_rate = float(hr)\n",
    "    hours_worked = float(hw)\n",
    "    Pay_40 = (hourly_rate*(1.5*(hours_worked-40)+40))\n",
    "    Pay = (hourly_rate * hours_worked)\n",
    "    if (hours_worked > 40):\n",
    "        print(Pay_40)\n",
    "    else :\n",
    "        print(Pay)\n",
    "except:\n",
    "    print(\"Please enter numeric input\")"
   ]
  },
  {
   "cell_type": "code",
   "execution_count": 9,
   "metadata": {},
   "outputs": [
    {
     "name": "stdout",
     "output_type": "stream",
     "text": [
      "Enter a score : 0.79\n",
      "Grade : C\n"
     ]
    }
   ],
   "source": [
    "s = input(\"Enter a score : \")\n",
    "\n",
    "try:\n",
    "    score = float(s)\n",
    "    if(score >= 0.9 and score <= 1.0):\n",
    "        print(\"Grade : A\")\n",
    "    elif(score >= 0.8 and score < 0.9):\n",
    "        print(\"Grade : B\")\n",
    "    elif(score >= 0.7 and score < 0.8):\n",
    "        print(\"Grade : C\")\n",
    "    elif(score >= 0.6 and score < 0.7):\n",
    "        print(\"Grade : D\")\n",
    "    elif(score >= 0 and score < 0.6):\n",
    "        print(\"Grade : F\")\n",
    "    else:\n",
    "        print(\"Out of Range\")\n",
    "except:\n",
    "    print(\"Please enter numeric value\")"
   ]
  },
  {
   "cell_type": "code",
   "execution_count": 7,
   "metadata": {},
   "outputs": [
    {
     "name": "stdout",
     "output_type": "stream",
     "text": [
      "Enter 1st number : 23\n",
      "Enter 2nd number : 25\n",
      "Enter 3rd number : thirty\n",
      "Enter numeric value\n"
     ]
    }
   ],
   "source": [
    "# Find greatest number\n",
    "\n",
    "n1 = input(\"Enter 1st number : \")\n",
    "n2 = input(\"Enter 2nd number : \")\n",
    "n3 = input(\"Enter 3rd number : \")\n",
    "\n",
    "try:\n",
    "    p = float(n1)\n",
    "    q = float(n2)\n",
    "    r = float(n3)\n",
    "    if (p>q and p>r):\n",
    "        print(str(p) + \"is greater\")\n",
    "    if (q>p and q>r):\n",
    "        print(str(q) + \" is greater\")\n",
    "    if (r>p and r>q):\n",
    "        print(str(r) + \" is greater\")\n",
    "    else:\n",
    "        print(\"Three nos. are equal\")\n",
    "except:\n",
    "        print(\"Enter numeric value\")"
   ]
  }
 ],
 "metadata": {
  "kernelspec": {
   "display_name": "Python 3",
   "language": "python",
   "name": "python3"
  },
  "language_info": {
   "codemirror_mode": {
    "name": "ipython",
    "version": 3
   },
   "file_extension": ".py",
   "mimetype": "text/x-python",
   "name": "python",
   "nbconvert_exporter": "python",
   "pygments_lexer": "ipython3",
   "version": "3.6.4"
  }
 },
 "nbformat": 4,
 "nbformat_minor": 2
}
