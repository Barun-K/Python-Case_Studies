{
 "cells": [
  {
   "cell_type": "code",
   "execution_count": 1,
   "metadata": {},
   "outputs": [
    {
     "name": "stdout",
     "output_type": "stream",
     "text": [
      "Enter Value 1 : 5\n",
      "Enter Value 2 : 2\n",
      "Enter operation (1/2/3/4) : 5\n",
      "Please enter only from operation (1/2/3/4)\n"
     ]
    }
   ],
   "source": [
    "# 1) Accept 3 inputs from the user: op1, op2,op3. If op3 is 1 the add op1 and op2 and display the result. \n",
    "#   If op3 is 2 display the difference, if op3 Is 3 display the product, if op3 is 4 display the quotient as \n",
    "#   a floating point value. Use If-else ladder to solve the problem.\n",
    "\n",
    "op1 = float(input(\"Enter Value 1 : \"))\n",
    "op2 = float(input(\"Enter Value 2 : \"))\n",
    "op3 = input(\"Enter operation (1/2/3/4) : \")\n",
    "if(op3 == '1'):\n",
    "    sum = op1 + op2\n",
    "    print('Sum of numbers : ',sum)\n",
    "elif(op3 == '2'):\n",
    "    Diff = op1 - op2\n",
    "    print('Difference between numbers : ',Diff)\n",
    "elif(op3 == '3'):\n",
    "    mult = op1*op2\n",
    "    print('Multiplication of numbers : ',mult)\n",
    "elif(op3 == '4'):\n",
    "    q = op1%op2\n",
    "    print('Quotient : ',q)\n",
    "else:\n",
    "    print(\"Please enter only from operation (1/2/3/4)\")"
   ]
  },
  {
   "cell_type": "code",
   "execution_count": 3,
   "metadata": {},
   "outputs": [
    {
     "name": "stdout",
     "output_type": "stream",
     "text": [
      "Enter distnace covered : 345\n",
      "60\n"
     ]
    }
   ],
   "source": [
    "# 2) Write a program to find the product of the digits in the given input number.\n",
    "\n",
    "try:\n",
    "    d = int(input(\"Enter distnace covered : \"))\n",
    "    n = len(str(d))\n",
    "    dlist = []\n",
    "    i=0\n",
    "    while i<n:\n",
    "        m = d%10\n",
    "        d = d//10\n",
    "        dlist.append(m)\n",
    "        i = i + 1\n",
    "    d = 1\n",
    "    i = 0\n",
    "    while i<n:\n",
    "        d = dlist[i]*d\n",
    "        i = i + 1\n",
    "    print(d)\n",
    "except:\n",
    "    print(\"Please enter valid distance value\")"
   ]
  },
  {
   "cell_type": "code",
   "execution_count": 1,
   "metadata": {},
   "outputs": [
    {
     "name": "stdout",
     "output_type": "stream",
     "text": [
      "Enter a number : 12020\n",
      "[2, 0, 2, 1]\n",
      "Reverse of the number with truncated zeros from start :  2021\n"
     ]
    }
   ],
   "source": [
    "# 3) Write an algorithm to accept a number and return the reverse of the same. If the number ends with one or\n",
    "#    more zeros, then in the reversed number those zeros will not be present (since those zeros become leading zeros). \n",
    "\n",
    "try:\n",
    "    d = int(input(\"Enter a number : \"))\n",
    "    n = int(len(str(d)))\n",
    "    dlist = []\n",
    "    i=0\n",
    "    while i<n:\n",
    "        m = d%10\n",
    "        d = d//10\n",
    "        dlist.append(m)\n",
    "        i = i + 1\n",
    "    p = 0\n",
    "    while dlist[p]==0:\n",
    "        dlist.remove(0)\n",
    "    p = p + 1\n",
    "    print(dlist)\n",
    "    z = \"\"\n",
    "    for x in dlist:\n",
    "        z += str(x)\n",
    "    print(\"Reverse of the number with truncated zeros from start : \",z)\n",
    "except:\n",
    "    print(\"Please enter valid distance value\")"
   ]
  },
  {
   "cell_type": "code",
   "execution_count": 9,
   "metadata": {},
   "outputs": [
    {
     "name": "stdout",
     "output_type": "stream",
     "text": [
      "Enter score1 for Abay : 2\n",
      "Enter score2 for Abay : 3\n",
      "Enter score3 for Abay : 4\n",
      "Enter score1 for Babita : 4\n",
      "Enter score2 for Babita : 3\n",
      "Enter score3 for Babita : 2\n",
      "Abay and Babita scored equal points\n"
     ]
    }
   ],
   "source": [
    "# 4) Chess score\n",
    "\n",
    "a1 = int(input(\"Enter score1 for Abay : \"))\n",
    "a2 = int(input(\"Enter score2 for Abay : \"))\n",
    "a3 = int(input(\"Enter score3 for Abay : \"))\n",
    "b1 = int(input(\"Enter score1 for Babita : \"))\n",
    "b2 = int(input(\"Enter score2 for Babita : \"))\n",
    "b3 = int(input(\"Enter score3 for Babita : \"))\n",
    "\n",
    "a = 0\n",
    "b = 0\n",
    "if(a1>b1):\n",
    "    a = a + 1\n",
    "elif(b1>a1):\n",
    "    b = b + 1\n",
    "if(a2>b2):\n",
    "    a = a + 1\n",
    "elif(b2>a2):\n",
    "    b = b + 1\n",
    "if(a3>b3):\n",
    "    a = a + 1\n",
    "elif(b3>a3):\n",
    "    b = b + 1\n",
    "if(a>b):\n",
    "    print(\"Abay is winner\")\n",
    "elif(b>a):\n",
    "    print(\"Babita is winner\")\n",
    "elif(a==b):\n",
    "    print(\"Abay and Babita scored equal points\")"
   ]
  },
  {
   "cell_type": "code",
   "execution_count": 8,
   "metadata": {},
   "outputs": [
    {
     "name": "stdout",
     "output_type": "stream",
     "text": [
      "Enter a number : 8\n",
      "Binay of input number is :  1000\n"
     ]
    }
   ],
   "source": [
    "# 5) Deciaml into binary\n",
    "\n",
    "\n",
    "de = int(input(\"Enter a number : \"))\n",
    "listd = []\n",
    "while(de != 0):\n",
    "    m = de%2\n",
    "    listd.append(m)\n",
    "    de = de//2\n",
    "listr = []\n",
    "n = int(len(listd))\n",
    "y = 0\n",
    "while(y<n):\n",
    "    listr.append(listd[n-1-y])\n",
    "    y = y + 1\n",
    "z = \"\"\n",
    "for x in listr:\n",
    "    z += str(x)\n",
    "print(\"Binay of input number is : \",z)"
   ]
  },
  {
   "cell_type": "code",
   "execution_count": 11,
   "metadata": {},
   "outputs": [
    {
     "name": "stdout",
     "output_type": "stream",
     "text": [
      "Enter binary number : 101\n",
      "5\n"
     ]
    }
   ],
   "source": [
    "# 6) Convert a given binary number into decimal. \n",
    "#    For example if a given number is 101, then he output should be 5.\n",
    "\n",
    "num = int(input(\"Enter binary number : \"))\n",
    "base = 1\n",
    "decimal_val = 0\n",
    "binary_val = num\n",
    "while (num != 0):\n",
    "    rem = num % 10\n",
    "    decimal_val = decimal_val + rem * base\n",
    "    num = num // 10\n",
    "    base = base * 2\n",
    "print(decimal_val)\n"
   ]
  },
  {
   "cell_type": "code",
   "execution_count": 8,
   "metadata": {},
   "outputs": [
    {
     "name": "stdout",
     "output_type": "stream",
     "text": [
      "Enter value of n : 7\n",
      "[0, 1, 1, 2, 3, 5, 8]\n"
     ]
    }
   ],
   "source": [
    "# 7) Write a program to generate n Fibonacci series\n",
    "#    Fibonacci series is : 0,1,1,2,3,5…..\n",
    "\n",
    "n = int(input(\"Enter value of n : \"))\n",
    "p = [0,1]\n",
    "i=2\n",
    "while i<n:\n",
    "    t=p[i-1] + p[i-2]\n",
    "    p.append(t)\n",
    "    i = i + 1\n",
    "print(p)"
   ]
  },
  {
   "cell_type": "code",
   "execution_count": 11,
   "metadata": {},
   "outputs": [
    {
     "name": "stdout",
     "output_type": "stream",
     "text": [
      "Enter average mark of the student : 89\n",
      "Grade obtained by student : A\n"
     ]
    }
   ],
   "source": [
    "# 8) Display the grade of N students in an examination based on their average score. Average score \n",
    "#    has to be accepted from the user. \n",
    "\n",
    "try:\n",
    "    marks = int(input(\"Enter average mark of the student : \"))\n",
    "    if marks >= 80 and marks <= 100:\n",
    "        print(\"Grade obtained by student : A\")\n",
    "    elif marks >= 50 and marks <= 79:\n",
    "        print(\"Grade obtained by student : B\")\n",
    "    elif marks >= 35 and marks <= 49:\n",
    "        print(\"Grade obtained by student : C\")\n",
    "    elif marks < 35:\n",
    "        print(\"Student is Fail\")\n",
    "except:\n",
    "    print(\"Enter valid marks\")"
   ]
  },
  {
   "cell_type": "code",
   "execution_count": 9,
   "metadata": {},
   "outputs": [
    {
     "name": "stdout",
     "output_type": "stream",
     "text": [
      "Enter value of rows : 5\n",
      "*\n",
      "**\n",
      "***\n",
      "****\n",
      "*****\n"
     ]
    }
   ],
   "source": [
    "# 9) Generate the following * pattern\n",
    "\n",
    "n = int(input(\"Enter value of rows : \"))\n",
    "j = 1\n",
    "while j<=n:\n",
    "    print('*'*j)\n",
    "    j = j + 1"
   ]
  },
  {
   "cell_type": "code",
   "execution_count": null,
   "metadata": {},
   "outputs": [],
   "source": []
  }
 ],
 "metadata": {
  "kernelspec": {
   "display_name": "Python 3",
   "language": "python",
   "name": "python3"
  },
  "language_info": {
   "codemirror_mode": {
    "name": "ipython",
    "version": 3
   },
   "file_extension": ".py",
   "mimetype": "text/x-python",
   "name": "python",
   "nbconvert_exporter": "python",
   "pygments_lexer": "ipython3",
   "version": "3.6.4"
  }
 },
 "nbformat": 4,
 "nbformat_minor": 2
}
