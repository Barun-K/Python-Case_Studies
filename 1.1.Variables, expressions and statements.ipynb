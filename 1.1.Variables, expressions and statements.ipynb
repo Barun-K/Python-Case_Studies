{
 "cells": [
  {
   "cell_type": "code",
   "execution_count": 1,
   "metadata": {},
   "outputs": [
    {
     "name": "stdout",
     "output_type": "stream",
     "text": [
      "Hello Python\n"
     ]
    }
   ],
   "source": [
    "x= 'Hello Python'\n",
    "print(x)"
   ]
  },
  {
   "cell_type": "code",
   "execution_count": 2,
   "metadata": {},
   "outputs": [
    {
     "name": "stdout",
     "output_type": "stream",
     "text": [
      "The comment line is not run\n"
     ]
    }
   ],
   "source": [
    "#This is a comment\n",
    "print('The comment line is not run')"
   ]
  },
  {
   "cell_type": "code",
   "execution_count": 7,
   "metadata": {},
   "outputs": [
    {
     "data": {
      "text/plain": [
       "'\\nThis is\\na comment line\\nthat spans multiple line\\n'"
      ]
     },
     "execution_count": 7,
     "metadata": {},
     "output_type": "execute_result"
    }
   ],
   "source": [
    "'''\n",
    "This is\n",
    "a comment line\n",
    "that spans multiple line\n",
    "'''"
   ]
  },
  {
   "cell_type": "code",
   "execution_count": 4,
   "metadata": {},
   "outputs": [
    {
     "data": {
      "text/plain": [
       "str"
      ]
     },
     "execution_count": 4,
     "metadata": {},
     "output_type": "execute_result"
    }
   ],
   "source": [
    "type (x)"
   ]
  },
  {
   "cell_type": "code",
   "execution_count": 5,
   "metadata": {},
   "outputs": [
    {
     "name": "stdout",
     "output_type": "stream",
     "text": [
      "Hello Adam\n",
      "your balance is 230.2356 \n"
     ]
    }
   ],
   "source": [
    "#Formatted output\n",
    "print(\"Hello {0}\\nyour balance is {1} \".format(\"Adam\",230.2356))"
   ]
  },
  {
   "cell_type": "code",
   "execution_count": 6,
   "metadata": {},
   "outputs": [
    {
     "name": "stdout",
     "output_type": "stream",
     "text": [
      "Hello Adam\tyour balance is 230.2356 \n"
     ]
    }
   ],
   "source": [
    "#Formatted output\n",
    "print(\"Hello {0}\\tyour balance is {1} \".format(\"Adam\",230.2356))"
   ]
  },
  {
   "cell_type": "code",
   "execution_count": 7,
   "metadata": {},
   "outputs": [
    {
     "data": {
      "text/plain": [
       "int"
      ]
     },
     "execution_count": 7,
     "metadata": {},
     "output_type": "execute_result"
    }
   ],
   "source": [
    "type (4)"
   ]
  },
  {
   "cell_type": "code",
   "execution_count": 8,
   "metadata": {},
   "outputs": [
    {
     "data": {
      "text/plain": [
       "float"
      ]
     },
     "execution_count": 8,
     "metadata": {},
     "output_type": "execute_result"
    }
   ],
   "source": [
    "type (3.2)"
   ]
  },
  {
   "cell_type": "code",
   "execution_count": 9,
   "metadata": {},
   "outputs": [
    {
     "data": {
      "text/plain": [
       "str"
      ]
     },
     "execution_count": 9,
     "metadata": {},
     "output_type": "execute_result"
    }
   ],
   "source": [
    "type ('17')"
   ]
  },
  {
   "cell_type": "code",
   "execution_count": 10,
   "metadata": {},
   "outputs": [],
   "source": [
    "#Variables"
   ]
  },
  {
   "cell_type": "code",
   "execution_count": 11,
   "metadata": {},
   "outputs": [
    {
     "name": "stdout",
     "output_type": "stream",
     "text": [
      "4\n"
     ]
    }
   ],
   "source": [
    "a = 1\n",
    "b = 3\n",
    "print(a+b)"
   ]
  },
  {
   "cell_type": "code",
   "execution_count": 12,
   "metadata": {},
   "outputs": [
    {
     "ename": "TypeError",
     "evalue": "must be str, not int",
     "output_type": "error",
     "traceback": [
      "\u001b[1;31m---------------------------------------------------------------------------\u001b[0m",
      "\u001b[1;31mTypeError\u001b[0m                                 Traceback (most recent call last)",
      "\u001b[1;32m<ipython-input-12-81b4bf77bfc6>\u001b[0m in \u001b[0;36m<module>\u001b[1;34m()\u001b[0m\n\u001b[0;32m      1\u001b[0m \u001b[1;31m#What happens\u001b[0m\u001b[1;33m\u001b[0m\u001b[1;33m\u001b[0m\u001b[0m\n\u001b[0;32m      2\u001b[0m \u001b[0ma\u001b[0m \u001b[1;33m=\u001b[0m \u001b[1;34m'3'\u001b[0m\u001b[1;33m\u001b[0m\u001b[0m\n\u001b[1;32m----> 3\u001b[1;33m \u001b[0mprint\u001b[0m\u001b[1;33m(\u001b[0m\u001b[0ma\u001b[0m\u001b[1;33m+\u001b[0m\u001b[1;36m1\u001b[0m\u001b[1;33m)\u001b[0m\u001b[1;33m\u001b[0m\u001b[0m\n\u001b[0m",
      "\u001b[1;31mTypeError\u001b[0m: must be str, not int"
     ]
    }
   ],
   "source": [
    "#What happens\n",
    "a = '3'\n",
    "print(a+1)"
   ]
  },
  {
   "cell_type": "code",
   "execution_count": 13,
   "metadata": {},
   "outputs": [
    {
     "name": "stdout",
     "output_type": "stream",
     "text": [
      "4\n"
     ]
    }
   ],
   "source": [
    "a = '3'\n",
    "print(int(a)+1)"
   ]
  },
  {
   "cell_type": "code",
   "execution_count": 14,
   "metadata": {},
   "outputs": [
    {
     "name": "stdout",
     "output_type": "stream",
     "text": [
      "31\n"
     ]
    }
   ],
   "source": [
    "a = '3'\n",
    "print (a + str(1))"
   ]
  },
  {
   "cell_type": "code",
   "execution_count": 15,
   "metadata": {},
   "outputs": [
    {
     "data": {
      "text/plain": [
       "int"
      ]
     },
     "execution_count": 15,
     "metadata": {},
     "output_type": "execute_result"
    }
   ],
   "source": [
    "x = 15\n",
    "type(x)"
   ]
  },
  {
   "cell_type": "code",
   "execution_count": 16,
   "metadata": {},
   "outputs": [
    {
     "name": "stdout",
     "output_type": "stream",
     "text": [
      "Type of x : <class 'float'>\n",
      "Type of aString : <class 'str'>\n",
      "Type of aBoolean : <class 'bool'>\n"
     ]
    }
   ],
   "source": [
    "x = 15.4\n",
    "print('Type of x :',type(x))\n",
    "\n",
    "aString = 'This is a string'\n",
    "print('Type of aString :',type(aString))\n",
    "\n",
    "aBoolean = True\n",
    "print('Type of aBoolean :',type(aBoolean))"
   ]
  },
  {
   "cell_type": "code",
   "execution_count": 17,
   "metadata": {},
   "outputs": [],
   "source": [
    "#Aruthmetic Operations"
   ]
  },
  {
   "cell_type": "code",
   "execution_count": 18,
   "metadata": {},
   "outputs": [
    {
     "name": "stdout",
     "output_type": "stream",
     "text": [
      "7\n",
      "-1\n",
      "12\n",
      "1\n",
      "81\n",
      "0.75\n",
      "0\n"
     ]
    }
   ],
   "source": [
    "#Addition\n",
    "print(3+4)\n",
    "\n",
    "#Subtraction\n",
    "print(3-4)\n",
    "\n",
    "#Multiplication\n",
    "print(3*4)\n",
    "\n",
    "#Modulo Operator\n",
    "print(3%2)\n",
    "\n",
    "#Exponentiation\n",
    "print(3**4)\n",
    "\n",
    "#Division\n",
    "print(3/4)\n",
    "\n",
    "#Floor diviation\n",
    "print(3//4)"
   ]
  },
  {
   "cell_type": "code",
   "execution_count": 6,
   "metadata": {},
   "outputs": [
    {
     "name": "stdout",
     "output_type": "stream",
     "text": [
      "12\n"
     ]
    }
   ],
   "source": [
    "# String operations\n",
    "a = '1'\n",
    "b = '2'\n",
    "print(a+b)"
   ]
  },
  {
   "cell_type": "code",
   "execution_count": 11,
   "metadata": {},
   "outputs": [
    {
     "data": {
      "text/plain": [
       "'111'"
      ]
     },
     "execution_count": 11,
     "metadata": {},
     "output_type": "execute_result"
    }
   ],
   "source": [
    "a * 3"
   ]
  },
  {
   "cell_type": "code",
   "execution_count": 7,
   "metadata": {},
   "outputs": [
    {
     "data": {
      "text/plain": [
       "'111222'"
      ]
     },
     "execution_count": 7,
     "metadata": {},
     "output_type": "execute_result"
    }
   ],
   "source": [
    "#Concatenate\n",
    "(a * 3) + (3 * b)"
   ]
  },
  {
   "cell_type": "code",
   "execution_count": 22,
   "metadata": {},
   "outputs": [
    {
     "name": "stdout",
     "output_type": "stream",
     "text": [
      "What's your name? Barun\n"
     ]
    }
   ],
   "source": [
    "name = input(\"What's your name? \")"
   ]
  },
  {
   "cell_type": "code",
   "execution_count": 23,
   "metadata": {},
   "outputs": [
    {
     "name": "stdout",
     "output_type": "stream",
     "text": [
      "Barun\n"
     ]
    }
   ],
   "source": [
    "print(name)"
   ]
  },
  {
   "cell_type": "code",
   "execution_count": 25,
   "metadata": {},
   "outputs": [
    {
     "name": "stdout",
     "output_type": "stream",
     "text": [
      "Nice to meet you Barun!\n"
     ]
    }
   ],
   "source": [
    "print(\"Nice to meet you \" + name + \"!\")"
   ]
  },
  {
   "cell_type": "code",
   "execution_count": 26,
   "metadata": {},
   "outputs": [
    {
     "name": "stdout",
     "output_type": "stream",
     "text": [
      "Your age? 28\n",
      "So, you are already 28 years old, Barun!\n"
     ]
    }
   ],
   "source": [
    "age = input(\"Your age? \")\n",
    "print(\"So, you are already \" + age + \" years old, \" + name + \"!\")"
   ]
  },
  {
   "cell_type": "code",
   "execution_count": 27,
   "metadata": {},
   "outputs": [
    {
     "name": "stdout",
     "output_type": "stream",
     "text": [
      "Enter a number 55\n"
     ]
    },
    {
     "data": {
      "text/plain": [
       "60"
      ]
     },
     "execution_count": 27,
     "metadata": {},
     "output_type": "execute_result"
    }
   ],
   "source": [
    "prompt = 'Enter a number '\n",
    "speed = input(prompt)\n",
    "int(speed) + 5"
   ]
  },
  {
   "cell_type": "code",
   "execution_count": 28,
   "metadata": {},
   "outputs": [
    {
     "data": {
      "text/plain": [
       "33"
      ]
     },
     "execution_count": 28,
     "metadata": {},
     "output_type": "execute_result"
    }
   ],
   "source": [
    "int(age) + 5"
   ]
  },
  {
   "cell_type": "code",
   "execution_count": 29,
   "metadata": {},
   "outputs": [
    {
     "name": "stdout",
     "output_type": "stream",
     "text": [
      "Enter mass value : 23\n",
      "Enter acceleration value : 3\n",
      "Force = mass * acceleartion =  69.0\n"
     ]
    }
   ],
   "source": [
    "#Compute force after user input of mass and accleration\n",
    "\n",
    "mass = input(\"Enter mass value : \")\n",
    "acceleration = input(\"Enter acceleration value : \")\n",
    "Force = (float(mass) * float(acceleration))\n",
    "print(\"Force = mass * acceleartion = \",Force)"
   ]
  },
  {
   "cell_type": "code",
   "execution_count": 30,
   "metadata": {},
   "outputs": [
    {
     "name": "stdout",
     "output_type": "stream",
     "text": [
      "Print temperature in celsius : 38\n",
      "Temperature in Fahrenheit :  100.4\n"
     ]
    }
   ],
   "source": [
    "#Compute temperature in Fahrenheit after user input of temperature in Celsius\n",
    "\n",
    "celsius_temp = input(\"Print temperature in celsius : \")\n",
    "Fah_temp = ((1.8 * float(celsius_temp)) + 32)\n",
    "print(\"Temperature in Fahrenheit : \",Fah_temp)"
   ]
  },
  {
   "cell_type": "code",
   "execution_count": 31,
   "metadata": {},
   "outputs": [
    {
     "name": "stdout",
     "output_type": "stream",
     "text": [
      "Force : 69.0\n",
      "Temperature in Fahrenheit :  100.4 \n"
     ]
    }
   ],
   "source": [
    "#Formatted output\n",
    "print(\"Force : {0}\\nTemperature in Fahrenheit :  {1} \".format(Force,Fah_temp))"
   ]
  },
  {
   "cell_type": "code",
   "execution_count": 32,
   "metadata": {},
   "outputs": [
    {
     "name": "stdout",
     "output_type": "stream",
     "text": [
      "Enter no. of hours3\n",
      "Enter the value for rate per hour3000\n",
      "Gross pay for the user is :  9000.0\n"
     ]
    }
   ],
   "source": [
    "#Compute gross pay\n",
    "\n",
    "hours = input(\"Enter no. of hours\")\n",
    "rate_per_hour = input(\"Enter the value for rate per hour\")\n",
    "gross_pay = (float(hours) * float(rate_per_hour))\n",
    "print(\"Gross pay for the user is : \",gross_pay)"
   ]
  },
  {
   "cell_type": "code",
   "execution_count": 33,
   "metadata": {},
   "outputs": [
    {
     "name": "stdout",
     "output_type": "stream",
     "text": [
      "False\n",
      "True\n",
      "<class 'bool'>\n",
      "<class 'bool'>\n"
     ]
    }
   ],
   "source": [
    "# Conditional Execution\n",
    "\n",
    "print(3 == 5)\n",
    "print(3 == 3)\n",
    "\n",
    "print(type(True))\n",
    "print(type(False))"
   ]
  },
  {
   "cell_type": "code",
   "execution_count": 34,
   "metadata": {},
   "outputs": [
    {
     "name": "stdout",
     "output_type": "stream",
     "text": [
      "x ix positive\n"
     ]
    }
   ],
   "source": [
    "x = 25\n",
    "if (x > 0):\n",
    "    print('x ix positive')"
   ]
  },
  {
   "cell_type": "code",
   "execution_count": 37,
   "metadata": {},
   "outputs": [
    {
     "name": "stdout",
     "output_type": "stream",
     "text": [
      "x is even\n"
     ]
    }
   ],
   "source": [
    "# To check if number is odd or even\n",
    "\n",
    "x = 32\n",
    "if(x%2 == 0):\n",
    "    print('x is even')\n",
    "else :\n",
    "    print('x is odd')"
   ]
  },
  {
   "cell_type": "code",
   "execution_count": 35,
   "metadata": {},
   "outputs": [
    {
     "name": "stdout",
     "output_type": "stream",
     "text": [
      "Enter a number5\n",
      "5 is odd\n"
     ]
    }
   ],
   "source": [
    "# Taking input from user\n",
    "\n",
    "x = int(input(\"Enter a number\"))\n",
    "if(x%2 == 0):\n",
    "    print(str(x) + ' is even')\n",
    "else :\n",
    "    print(str(x) + ' is odd')"
   ]
  },
  {
   "cell_type": "code",
   "execution_count": 36,
   "metadata": {},
   "outputs": [
    {
     "name": "stdout",
     "output_type": "stream",
     "text": [
      "x is greater than y\n"
     ]
    }
   ],
   "source": [
    "# Chained conditions\n",
    "\n",
    "x = 20\n",
    "y = 15\n",
    "if (x<y):\n",
    "    print('x is less than y')\n",
    "elif (x>y):\n",
    "    print('x is greater than y')\n",
    "else :\n",
    "    print('x and y are equal')"
   ]
  },
  {
   "cell_type": "code",
   "execution_count": 1,
   "metadata": {},
   "outputs": [
    {
     "name": "stdout",
     "output_type": "stream",
     "text": [
      "x is positive single-digit number\n"
     ]
    }
   ],
   "source": [
    "# Nested if\n",
    "\n",
    "x = 5\n",
    "if(0<x):\n",
    "    if(x<10):\n",
    "        print('x is positive single-digit number')"
   ]
  },
  {
   "cell_type": "code",
   "execution_count": 6,
   "metadata": {},
   "outputs": [
    {
     "name": "stdout",
     "output_type": "stream",
     "text": [
      "x is positive single-digit number\n"
     ]
    }
   ],
   "source": [
    "# Nested if-else\n",
    "\n",
    "if(0<x):\n",
    "    if(x<10):\n",
    "        print('x is positive single-digit number')\n",
    "    elif(x>10):\n",
    "        print('x is negative single-digit number')"
   ]
  },
  {
   "cell_type": "code",
   "execution_count": 19,
   "metadata": {},
   "outputs": [
    {
     "name": "stdout",
     "output_type": "stream",
     "text": [
      "x is positive single-digit number\n"
     ]
    }
   ],
   "source": [
    "# Using AND operator\n",
    "\n",
    "x = 3\n",
    "if 0 < x and x < 10:\n",
    "    print('x is positive single-digit number')"
   ]
  },
  {
   "cell_type": "code",
   "execution_count": 64,
   "metadata": {},
   "outputs": [
    {
     "name": "stdout",
     "output_type": "stream",
     "text": [
      "Enter a value for year : 1996\n",
      "Year 1996 is leap year\n"
     ]
    }
   ],
   "source": [
    "year = int(input('Enter a value for year : '))\n",
    "           \n",
    "if(year%100 == 0 and year%400 == 0):\n",
    "    print('Year ' + str(year) +' is leap year')\n",
    "elif (year%4==0 and year%100 !=0):\n",
    "    print('Year ' + str(year) +' is leap year')\n",
    "else :\n",
    "    print('Year ' + str(year) +' is not a leap year')"
   ]
  },
  {
   "cell_type": "code",
   "execution_count": 2,
   "metadata": {},
   "outputs": [
    {
     "name": "stdout",
     "output_type": "stream",
     "text": [
      "False\n"
     ]
    }
   ],
   "source": [
    "# Short circuit evaluation in Python : AND\n",
    "\n",
    "x = 1\n",
    "y = 0\n",
    "print(x>=2 and x/y > 2)"
   ]
  },
  {
   "cell_type": "code",
   "execution_count": 45,
   "metadata": {},
   "outputs": [
    {
     "name": "stdout",
     "output_type": "stream",
     "text": [
      "True\n"
     ]
    }
   ],
   "source": [
    "# Short circuit evaluation in Python\n",
    "\n",
    "x = 1\n",
    "y = 0\n",
    "print(x<=2 or x/y > 2)"
   ]
  }
 ],
 "metadata": {
  "kernelspec": {
   "display_name": "Python 3",
   "language": "python",
   "name": "python3"
  },
  "language_info": {
   "codemirror_mode": {
    "name": "ipython",
    "version": 3
   },
   "file_extension": ".py",
   "mimetype": "text/x-python",
   "name": "python",
   "nbconvert_exporter": "python",
   "pygments_lexer": "ipython3",
   "version": "3.6.4"
  }
 },
 "nbformat": 4,
 "nbformat_minor": 2
}
