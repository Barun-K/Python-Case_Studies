{
 "cells": [
  {
   "cell_type": "code",
   "execution_count": 1,
   "metadata": {},
   "outputs": [],
   "source": [
    "import numpy as np\n",
    "import pandas as pd"
   ]
  },
  {
   "cell_type": "code",
   "execution_count": 2,
   "metadata": {},
   "outputs": [
    {
     "name": "stdout",
     "output_type": "stream",
     "text": [
      "Marks1    86.26\n",
      "Marks2    82.77\n",
      "Marks3    89.33\n",
      "Marks4    87.11\n",
      "dtype: float64\n",
      "0     88.00\n",
      "1     89.25\n",
      "2     85.50\n",
      "3     89.00\n",
      "4     89.75\n",
      "5     95.50\n",
      "6     85.75\n",
      "7     85.50\n",
      "8     86.75\n",
      "9     88.00\n",
      "10    88.25\n",
      "11    80.25\n",
      "12    88.50\n",
      "13    88.25\n",
      "14    85.25\n",
      "15    83.25\n",
      "16    88.75\n",
      "17    81.25\n",
      "18    90.50\n",
      "19    83.00\n",
      "20    80.75\n",
      "21    80.50\n",
      "22    91.50\n",
      "23    85.75\n",
      "24    92.25\n",
      "25    82.00\n",
      "26    84.25\n",
      "27    82.25\n",
      "28    89.25\n",
      "29    85.00\n",
      "      ...  \n",
      "70    85.00\n",
      "71    80.50\n",
      "72    91.75\n",
      "73    88.25\n",
      "74    85.25\n",
      "75    82.00\n",
      "76    89.25\n",
      "77    89.75\n",
      "78    89.25\n",
      "79    88.25\n",
      "80    89.75\n",
      "81    87.25\n",
      "82    93.75\n",
      "83    87.00\n",
      "84    90.00\n",
      "85    77.75\n",
      "86    90.50\n",
      "87    86.25\n",
      "88    83.25\n",
      "89    80.25\n",
      "90    76.50\n",
      "91    82.50\n",
      "92    87.25\n",
      "93    85.75\n",
      "94    82.75\n",
      "95    83.50\n",
      "96    88.00\n",
      "97    82.50\n",
      "98    88.00\n",
      "99    81.50\n",
      "Length: 100, dtype: float64\n"
     ]
    }
   ],
   "source": [
    "gradebook = pd.DataFrame({'studentID' : np.arange(1,101),\n",
    "                        'CourseID' : ['DS' for i in range(100)],\n",
    "                        'Marks1' : np.random.randint(70,100,size=100),\n",
    "                        'Marks2' : np.random.randint(65,100,size=100),\n",
    "                        'Marks3' : np.random.randint(80,100,size=100),\n",
    "                        'Marks4' : np.random.randint(75,100,size=100)})\n",
    "\n",
    "#print(gradebook)\n",
    "\n",
    "# a) Average marks in every assessment for all students\n",
    "\n",
    "#print(gradebook[[\"Marks1\",\"Marks2\",\"Marks3\",'Marks4']].mean(axis=0))\n",
    "print(gradebook[[\"Marks1\",\"Marks2\",\"Marks3\",'Marks4']].apply(np.mean,axis=0))\n",
    "\n",
    "# b) Average marks for every students across all assessment \n",
    "\n",
    "#gradebook[[\"Marks1\",\"Marks2\",\"Marks3\",'Marks4']].mean(axis=1)\n",
    "print(gradebook[[\"Marks1\",\"Marks2\",\"Marks3\",'Marks4']].apply(np.mean,axis=1))"
   ]
  },
  {
   "cell_type": "code",
   "execution_count": 32,
   "metadata": {},
   "outputs": [
    {
     "name": "stdout",
     "output_type": "stream",
     "text": [
      "0    66.0\n",
      "1    55.0\n",
      "2    16.5\n",
      "3    33.0\n",
      "dtype: float64\n",
      "0    66.0\n",
      "1    55.0\n",
      "2    16.5\n",
      "3    33.0\n",
      "dtype: float64\n",
      "Marks1     7.75\n",
      "Marks2    77.50\n",
      "dtype: float64\n"
     ]
    }
   ],
   "source": [
    "df = pd.DataFrame({'StudentID': ['a', 'b', 'c', 'd'],\n",
    "                   'Name': ['Rishikesh', 'Ranajay', \n",
    "                                  'Halappa', 'Srikanth'],\n",
    "                         'Marks1':[12, 10, 3, 6],\n",
    "                         'Marks2':[120, 100, 30, 60]})\n",
    "\n",
    "#Average marks of every student accross all the assessments\n",
    "print(df[[\"Marks1\",\"Marks2\"]].apply(np.mean,axis=1))\n",
    "print(df[[\"Marks1\",\"Marks2\"]].mean(axis=1))\n",
    "#Average marks of all the students for every assessment\n",
    "#print(df[[\"Marks1\",\"Marks2\"]].apply(np.mean,axis=0))\n",
    "print(df[[\"Marks1\",\"Marks2\"]].mean(axis=0))"
   ]
  },
  {
   "cell_type": "code",
   "execution_count": 11,
   "metadata": {},
   "outputs": [
    {
     "data": {
      "text/plain": [
       "(100,)"
      ]
     },
     "execution_count": 11,
     "metadata": {},
     "output_type": "execute_result"
    }
   ],
   "source": [
    "(np.random.randint(1,100,size=100)).shape"
   ]
  },
  {
   "cell_type": "code",
   "execution_count": 7,
   "metadata": {},
   "outputs": [
    {
     "name": "stdout",
     "output_type": "stream",
     "text": [
      "repeat('DS', 100)\n"
     ]
    }
   ],
   "source": [
    "s = itr.repeat('DS', 100)\n",
    "print(s)"
   ]
  },
  {
   "cell_type": "code",
   "execution_count": null,
   "metadata": {},
   "outputs": [],
   "source": []
  }
 ],
 "metadata": {
  "kernelspec": {
   "display_name": "Python 3",
   "language": "python",
   "name": "python3"
  },
  "language_info": {
   "codemirror_mode": {
    "name": "ipython",
    "version": 3
   },
   "file_extension": ".py",
   "mimetype": "text/x-python",
   "name": "python",
   "nbconvert_exporter": "python",
   "pygments_lexer": "ipython3",
   "version": "3.6.4"
  }
 },
 "nbformat": 4,
 "nbformat_minor": 2
}
