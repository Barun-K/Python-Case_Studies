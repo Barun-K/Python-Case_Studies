{
 "cells": [
  {
   "cell_type": "code",
   "execution_count": 2,
   "metadata": {},
   "outputs": [],
   "source": [
    "import re"
   ]
  },
  {
   "cell_type": "code",
   "execution_count": 3,
   "metadata": {},
   "outputs": [
    {
     "data": {
      "text/plain": [
       "'\\nre.findall -> find the pattern\\nre.search -> return a boolean or logical value if the pattern is found\\n'"
      ]
     },
     "execution_count": 3,
     "metadata": {},
     "output_type": "execute_result"
    }
   ],
   "source": [
    "'''\n",
    "re.findall -> find the pattern\n",
    "re.search -> return a boolean or logical value if the pattern is found\n",
    "'''"
   ]
  },
  {
   "cell_type": "code",
   "execution_count": 5,
   "metadata": {},
   "outputs": [
    {
     "name": "stdout",
     "output_type": "stream",
     "text": [
      "['X-Sleve:']\n"
     ]
    }
   ],
   "source": [
    "String1 = \"X-Sleve: CMU Sleve 2.3\"\n",
    "print(re.findall('^X.*:',String1))"
   ]
  },
  {
   "cell_type": "code",
   "execution_count": 31,
   "metadata": {},
   "outputs": [
    {
     "name": "stdout",
     "output_type": "stream",
     "text": [
      "['X-Sleve']\n"
     ]
    }
   ],
   "source": [
    "# Without colon (:)\n",
    "\n",
    "String1 = \"X-Sleve: CMU Sleve 2.3\"\n",
    "print(re.findall('(^X.*):',String1))"
   ]
  },
  {
   "cell_type": "code",
   "execution_count": 28,
   "metadata": {},
   "outputs": [
    {
     "data": {
      "text/plain": [
       "[]"
      ]
     },
     "execution_count": 28,
     "metadata": {},
     "output_type": "execute_result"
    }
   ],
   "source": [
    "String1 = \"X-Sleve: CMU Sleve 2.3\"\n",
    "re.findall(':(.*)',String1)"
   ]
  },
  {
   "cell_type": "code",
   "execution_count": 25,
   "metadata": {},
   "outputs": [
    {
     "name": "stdout",
     "output_type": "stream",
     "text": [
      "['CMU Sleve 2.3']\n"
     ]
    }
   ],
   "source": [
    "# Without WhiteSpace\n",
    "\n",
    "String1 = \"X-Sleve: CMU Sleve 2.3\"\n",
    "print(re.findall(':\\s(.*)',String1))"
   ]
  },
  {
   "cell_type": "code",
   "execution_count": 35,
   "metadata": {},
   "outputs": [
    {
     "name": "stdout",
     "output_type": "stream",
     "text": [
      "['2', '19', '42']\n",
      "['2', '1', '9', '4', '2']\n",
      "['2', '19', '42']\n"
     ]
    }
   ],
   "source": [
    "x = 'My 2 favorite numebrs are 19 and 42'\n",
    "\n",
    "print(re.findall('[0-9]+',x))\n",
    "print(re.findall('\\d',x))\n",
    "print(re.findall('\\d+',x))"
   ]
  },
  {
   "cell_type": "code",
   "execution_count": 53,
   "metadata": {},
   "outputs": [
    {
     "name": "stdout",
     "output_type": "stream",
     "text": [
      "['Stephen.marquard']\n",
      "['uct.ac.za']\n"
     ]
    }
   ],
   "source": [
    "x = \"From Stephen.marquard@uct.ac.za Sat Jan 5 09:14:16 2008\"\n",
    "\n",
    "print(re.findall('^From\\s(.*)@',x))\n",
    "print(re.findall('@(\\S+)',x))"
   ]
  },
  {
   "cell_type": "code",
   "execution_count": 58,
   "metadata": {},
   "outputs": [
    {
     "name": "stdout",
     "output_type": "stream",
     "text": [
      "['Stephen.marquard@uct.ac.za']\n",
      "['uct.ac.za']\n"
     ]
    }
   ],
   "source": [
    "x = \"From Stephen.marquard@uct.ac.za Sat Jan 5 09:14:16 2008\"\n",
    "\n",
    "y = re.findall('^From\\s(\\S+@\\S+)',x)\n",
    "print(y)\n",
    "z = re.findall('^From\\s\\S+@(\\S+)',x)\n",
    "print(z)"
   ]
  },
  {
   "cell_type": "code",
   "execution_count": 72,
   "metadata": {},
   "outputs": [
    {
     "name": "stdout",
     "output_type": "stream",
     "text": [
      "['$10.00']\n",
      "['$10.00']\n"
     ]
    }
   ],
   "source": [
    "x = 'We just received $10.00 for cookies.'\n",
    "y = re.findall('\\$[0-9]+\\.*[0-9]+',x)\n",
    "print(y)\n",
    "print(re.findall('\\$\\d.+\\d',x))"
   ]
  }
 ],
 "metadata": {
  "kernelspec": {
   "display_name": "Python 3",
   "language": "python",
   "name": "python3"
  },
  "language_info": {
   "codemirror_mode": {
    "name": "ipython",
    "version": 3
   },
   "file_extension": ".py",
   "mimetype": "text/x-python",
   "name": "python",
   "nbconvert_exporter": "python",
   "pygments_lexer": "ipython3",
   "version": "3.6.4"
  }
 },
 "nbformat": 4,
 "nbformat_minor": 2
}
