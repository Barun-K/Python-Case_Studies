{
 "cells": [
  {
   "cell_type": "code",
   "execution_count": 1,
   "metadata": {},
   "outputs": [
    {
     "name": "stdout",
     "output_type": "stream",
     "text": [
      "[1, 'a', True]\n"
     ]
    }
   ],
   "source": [
    "x = [1,\"a\",True]\n",
    "print(x)"
   ]
  },
  {
   "cell_type": "code",
   "execution_count": null,
   "metadata": {},
   "outputs": [
    {
     "data": {
      "text/plain": [
       "[10, 20, 30, 40]"
      ]
     },
     "execution_count": 2,
     "metadata": {},
     "output_type": "execute_result"
    }
   ],
   "source": [
    "mylist = []\n",
    "mylist.append(10)\n",
    "mylist.append(20)\n",
    "mylist.append(30)\n",
    "mylist.append(40)\n",
    "mylist"
   ]
  },
  {
   "cell_type": "code",
   "execution_count": null,
   "metadata": {},
   "outputs": [],
   "source": [
    "count = 1\n",
    "numList = []\n",
    "while count <= 3:\n",
    "    number = int(input(\"Enter a number : \"))\n",
    "    numList.append(number)\n",
    "    count = count+1\n",
    "# Use numList to find the average, variance and standard deviation\n",
    "print(numList)\n",
    "print(numList[0])"
   ]
  },
  {
   "cell_type": "code",
   "execution_count": null,
   "metadata": {},
   "outputs": [],
   "source": [
    "import statistics\n",
    "import math\n",
    "\n",
    "count = 1\n",
    "numList = []\n",
    "while count <= 3:\n",
    "    number = int(input(\"Enter a number : \"))\n",
    "    numList.append(number)\n",
    "    count = count+1\n",
    "# Use numList to find the average, variance and standard deviation\n",
    "print(numList)\n",
    "avg = statistics.mean(numList)\n",
    "va = statistics.variance(numList)\n",
    "sd = math.sqrt(va)\n",
    "print(\"Average of the numbers : \",avg)\n",
    "print(\"Variance of the numbers : \",va)\n",
    "print(\"Standard Variance of the numbers : \",sd)"
   ]
  },
  {
   "cell_type": "code",
   "execution_count": 6,
   "metadata": {},
   "outputs": [
    {
     "name": "stdout",
     "output_type": "stream",
     "text": [
      "Enter a number : 1\n",
      "Enter a number : 2\n",
      "Enter a number : 3\n",
      "Enter a number : 4\n",
      "Enter a number : 5\n",
      "Enter a number : 6\n",
      "Enter a number : 7\n",
      "Enter a number : 8\n",
      "Enter a number : 9\n",
      "Enter a number : 10\n",
      "Enter a number : 11\n",
      "Enter a number : 12\n",
      "Enter a number : 13\n",
      "Enter a number : 14\n",
      "Enter a number : 15\n",
      "[1, 2, 3, 4, 5, 6, 7, 8, 9, 10, 11, 12, 13, 14, 15]\n",
      "120\n",
      "Average of the numbers :  40.0\n",
      "Variance of the numbers :  5213.333333333333\n",
      "Standard Variance of the numbers :  72.20341635499898\n"
     ]
    }
   ],
   "source": [
    "\n",
    "count = 1\n",
    "numList = []\n",
    "while count <= 15:\n",
    "    number = int(input(\"Enter a number : \"))\n",
    "    numList.append(number)\n",
    "    count = count+1\n",
    "# Use numList to find the average, variance and standard deviation\n",
    "print(numList)\n",
    "\n",
    "i = 0\n",
    "sumList = 0\n",
    "while(i<15):\n",
    "    sumList = sumList + numList[i]\n",
    "    i = i+1\n",
    "print(sumList)\n",
    "avg = sumList/3\n",
    "\n",
    "numerator = 0\n",
    "i = 0\n",
    "while(i<15):\n",
    "    numerator = numerator + (numList[i] - avg)**2\n",
    "    i = i + 1\n",
    "va = numerator/3\n",
    "\n",
    "sd = va**0.5\n",
    "print(\"Average of the numbers : \",avg)\n",
    "print(\"Variance of the numbers : \",va)\n",
    "print(\"Standard Variance of the numbers : \",sd)"
   ]
  },
  {
   "cell_type": "code",
   "execution_count": null,
   "metadata": {},
   "outputs": [],
   "source": []
  }
 ],
 "metadata": {
  "kernelspec": {
   "display_name": "Python 3",
   "language": "python",
   "name": "python3"
  },
  "language_info": {
   "codemirror_mode": {
    "name": "ipython",
    "version": 3
   },
   "file_extension": ".py",
   "mimetype": "text/x-python",
   "name": "python",
   "nbconvert_exporter": "python",
   "pygments_lexer": "ipython3",
   "version": "3.6.4"
  }
 },
 "nbformat": 4,
 "nbformat_minor": 2
}
