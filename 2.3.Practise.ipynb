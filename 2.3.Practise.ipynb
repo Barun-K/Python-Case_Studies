{
 "cells": [
  {
   "cell_type": "code",
   "execution_count": 2,
   "metadata": {},
   "outputs": [
    {
     "name": "stdout",
     "output_type": "stream",
     "text": [
      "Enter mark 1 : 1\n",
      "Enter mark 2 : 2\n",
      "Enter mark 3 : 3\n",
      "2.0\n"
     ]
    }
   ],
   "source": [
    "m1 = int(input(\"Enter mark 1 : \"))\n",
    "m2 = int(input(\"Enter mark 2 : \"))\n",
    "m3 = int(input(\"Enter mark 3 : \"))\n",
    "total = (m1+m2+m3)\n",
    "average total/3\n",
    "print(average)"
   ]
  },
  {
   "cell_type": "code",
   "execution_count": 5,
   "metadata": {},
   "outputs": [
    {
     "name": "stdout",
     "output_type": "stream",
     "text": [
      "Enter mark 1 : 80\n",
      "Enter mark 2 : 90\n",
      "Enter mark 3 : 90\n",
      "Qualified\n"
     ]
    }
   ],
   "source": [
    "m1 = int(input(\"Enter mark 1 : \"))\n",
    "m2 = int(input(\"Enter mark 2 : \"))\n",
    "m3 = int(input(\"Enter mark 3 : \"))\n",
    "total = (m1+m2+m3)\n",
    "average=total/3\n",
    "if(average >= 75):\n",
    "    print(\"Qualified\")\n",
    "else:\n",
    "    print(\"Not Qualified\")"
   ]
  },
  {
   "cell_type": "code",
   "execution_count": 7,
   "metadata": {},
   "outputs": [
    {
     "name": "stdout",
     "output_type": "stream",
     "text": [
      "Enter no. of students : 3\n",
      "Enter mark 1 : 1\n",
      "Enter mark 2 : 2\n",
      "Enter mark 3 : 3\n",
      "Not Qualified\n",
      "Enter mark 1 : 70\n",
      "Enter mark 2 : 80\n",
      "Enter mark 3 : 90\n",
      "Qualified\n",
      "Enter mark 1 : 47\n",
      "Enter mark 2 : 87\n",
      "Enter mark 3 : 67\n",
      "Not Qualified\n"
     ]
    }
   ],
   "source": [
    "\n",
    "NoOfStudents = int(input(\"Enter no. of students : \"))\n",
    "counter = 1\n",
    "while(counter <= NoOfStudents):\n",
    "    m1 = int(input(\"Enter mark 1 : \"))\n",
    "    m2 = int(input(\"Enter mark 2 : \"))\n",
    "    m3 = int(input(\"Enter mark 3 : \"))\n",
    "    total = (m1+m2+m3)\n",
    "    average=total/3\n",
    "    if(average >= 75):\n",
    "        print(\"Qualified\")\n",
    "    else:\n",
    "        print(\"Not Qualified\")\n",
    "    counter = counter + 1"
   ]
  },
  {
   "cell_type": "code",
   "execution_count": 2,
   "metadata": {},
   "outputs": [
    {
     "name": "stdout",
     "output_type": "stream",
     "text": [
      "Enter no. of students : 1\n",
      "Enter mark 1 : 4\n",
      "Enter mark 2 : 4\n",
      "Enter mark 3 : 3\n",
      "Not Qualified\n"
     ]
    }
   ],
   "source": [
    "NoOfStudents = int(input(\"Enter no. of students : \"))\n",
    "for counter in range(1,NoOfStudents+1):\n",
    "    m1 = int(input(\"Enter mark 1 : \"))\n",
    "    m2 = int(input(\"Enter mark 2 : \"))\n",
    "    m3 = int(input(\"Enter mark 3 : \"))\n",
    "    total = (m1+m2+m3)\n",
    "    average=total/3\n",
    "    if(average >= 75):\n",
    "        print(\"Qualified\")\n",
    "    else:\n",
    "        print(\"Not Qualified\")"
   ]
  },
  {
   "cell_type": "code",
   "execution_count": 10,
   "metadata": {},
   "outputs": [
    {
     "name": "stdout",
     "output_type": "stream",
     "text": [
      "Enter no. of students : 1\n",
      "Enter marks1\n",
      "Enter marks2\n",
      "Enter marks3\n",
      "Not Qualified\n"
     ]
    }
   ],
   "source": [
    "NoOfStudents = int(input(\"Enter no. of students : \"))\n",
    "mlist = []\n",
    "for i in range(1,NoOfStudents+1):\n",
    "    for i in range(1,4):\n",
    "        m = int(input(\"Enter marks\"))\n",
    "        mlist.append(m)\n",
    "    total = 0\n",
    "#       for i in range(0,3):\n",
    "#       total = total + mlist[i]\n",
    "    for i in mlist:\n",
    "        total = total + i\n",
    "    average=total/3\n",
    "    if(average >= 75):\n",
    "        print(\"Qualified\")\n",
    "    else:\n",
    "        print(\"Not Qualified\")"
   ]
  },
  {
   "cell_type": "code",
   "execution_count": 14,
   "metadata": {},
   "outputs": [
    {
     "name": "stdout",
     "output_type": "stream",
     "text": [
      "largest 74\n"
     ]
    }
   ],
   "source": [
    "#Predict the output\n",
    "\n",
    "largest = -99999\n",
    "for itervar in [3,41,12,9,74,15,-5,0,-7]:\n",
    "    if itervar > largest:\n",
    "        largest = itervar\n",
    "print(\"largest\",largest)"
   ]
  },
  {
   "cell_type": "code",
   "execution_count": 28,
   "metadata": {},
   "outputs": [
    {
     "name": "stdout",
     "output_type": "stream",
     "text": [
      "74\n"
     ]
    }
   ],
   "source": [
    "# Above example with while loop\n",
    "largest = -99999\n",
    "nlist = [3,41,12,9,74,15,-5,0,-7]\n",
    "i = 0\n",
    "length = 0\n",
    "for itervar in nlist:\n",
    "    length = length + 1\n",
    "while(i < length):\n",
    "    if nlist[i] > largest:\n",
    "        largest = nlist[i]\n",
    "    i = i + 1\n",
    "print(largest)\n"
   ]
  }
 ],
 "metadata": {
  "kernelspec": {
   "display_name": "Python 3",
   "language": "python",
   "name": "python3"
  },
  "language_info": {
   "codemirror_mode": {
    "name": "ipython",
    "version": 3
   },
   "file_extension": ".py",
   "mimetype": "text/x-python",
   "name": "python",
   "nbconvert_exporter": "python",
   "pygments_lexer": "ipython3",
   "version": "3.6.4"
  }
 },
 "nbformat": 4,
 "nbformat_minor": 2
}
