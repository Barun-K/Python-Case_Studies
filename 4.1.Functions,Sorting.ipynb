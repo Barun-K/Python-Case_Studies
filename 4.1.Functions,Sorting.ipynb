{
 "cells": [
  {
   "cell_type": "code",
   "execution_count": null,
   "metadata": {},
   "outputs": [],
   "source": [
    "# FUNCTIONS\n",
    "# User Defined Functions"
   ]
  },
  {
   "cell_type": "code",
   "execution_count": 1,
   "metadata": {},
   "outputs": [],
   "source": [
    "def isPrime(number):\n",
    "    count = 2\n",
    "    isPrime = 1 # The number is assumed to be Prime\n",
    "    while count <= number//2:\n",
    "        if number%count == 0:\n",
    "            isPrime = 0 # the number is not prime\n",
    "            break\n",
    "        else:\n",
    "            count = count + 1\n",
    "    if isPrime == 1:\n",
    "        return True\n",
    "    else:\n",
    "        return False"
   ]
  },
  {
   "cell_type": "code",
   "execution_count": 2,
   "metadata": {},
   "outputs": [
    {
     "name": "stdout",
     "output_type": "stream",
     "text": [
      "Number is Prime\n"
     ]
    }
   ],
   "source": [
    "if (isPrime(47)==True) : print(\"Number is Prime\")"
   ]
  },
  {
   "cell_type": "code",
   "execution_count": 15,
   "metadata": {},
   "outputs": [
    {
     "name": "stdout",
     "output_type": "stream",
     "text": [
      "Enter a number : 23\n",
      "29\n",
      "31\n",
      "37\n",
      "41\n",
      "43\n"
     ]
    }
   ],
   "source": [
    "# Next 5 Prime nos.\n",
    "\n",
    "number = int(input(\"Enter a number : \"))\n",
    "numPrime = 1\n",
    "while numPrime <= 5:\n",
    "    number = number + 1\n",
    "    if(isPrime(number) == True):\n",
    "        print(number)\n",
    "        numPrime = numPrime + 1"
   ]
  },
  {
   "cell_type": "code",
   "execution_count": 4,
   "metadata": {},
   "outputs": [
    {
     "name": "stdout",
     "output_type": "stream",
     "text": [
      "Enter a number : 23\n",
      "Enter a number : 63\n",
      "29\n",
      "31\n",
      "37\n",
      "41\n",
      "43\n",
      "47\n",
      "53\n",
      "59\n",
      "61\n"
     ]
    }
   ],
   "source": [
    "# Prime nos between 2 nos\n",
    "\n",
    "number1 = int(input(\"Enter a number : \"))\n",
    "number2 = int(input(\"Enter a number : \"))\n",
    "number1 = number1 + 1\n",
    "while number1 < number2:\n",
    "    if(isPrime(number1) == True):\n",
    "        print(number1)\n",
    "    number1 = number1 + 1"
   ]
  },
  {
   "cell_type": "code",
   "execution_count": 5,
   "metadata": {},
   "outputs": [],
   "source": [
    "# User defined Factorial function\n",
    "\n",
    "def nFactorial(num):\n",
    "    count = 1\n",
    "    fact = 1\n",
    "    while count<=num:\n",
    "        fact = count * fact\n",
    "        count = count + 1\n",
    "    return(fact)        "
   ]
  },
  {
   "cell_type": "code",
   "execution_count": 13,
   "metadata": {},
   "outputs": [
    {
     "data": {
      "text/plain": [
       "120"
      ]
     },
     "execution_count": 13,
     "metadata": {},
     "output_type": "execute_result"
    }
   ],
   "source": [
    "nFactorial(5)"
   ]
  },
  {
   "cell_type": "code",
   "execution_count": 1,
   "metadata": {},
   "outputs": [
    {
     "ename": "IndexError",
     "evalue": "list index out of range",
     "output_type": "error",
     "traceback": [
      "\u001b[1;31m---------------------------------------------------------------------------\u001b[0m",
      "\u001b[1;31mIndexError\u001b[0m                                Traceback (most recent call last)",
      "\u001b[1;32m<ipython-input-1-5de49afedb87>\u001b[0m in \u001b[0;36m<module>\u001b[1;34m()\u001b[0m\n\u001b[0;32m      7\u001b[0m \u001b[1;32mwhile\u001b[0m \u001b[0mi\u001b[0m\u001b[1;33m<\u001b[0m\u001b[0mn\u001b[0m\u001b[1;33m:\u001b[0m\u001b[1;33m\u001b[0m\u001b[0m\n\u001b[0;32m      8\u001b[0m     \u001b[0mj\u001b[0m\u001b[1;33m=\u001b[0m\u001b[0mi\u001b[0m\u001b[1;33m+\u001b[0m\u001b[1;36m1\u001b[0m\u001b[1;33m\u001b[0m\u001b[0m\n\u001b[1;32m----> 9\u001b[1;33m     \u001b[1;32mif\u001b[0m \u001b[0mnlist\u001b[0m\u001b[1;33m[\u001b[0m\u001b[0mi\u001b[0m\u001b[1;33m]\u001b[0m\u001b[1;33m<\u001b[0m\u001b[0mnlist\u001b[0m\u001b[1;33m[\u001b[0m\u001b[0mj\u001b[0m\u001b[1;33m]\u001b[0m\u001b[1;33m:\u001b[0m\u001b[1;33m\u001b[0m\u001b[0m\n\u001b[0m\u001b[0;32m     10\u001b[0m         \u001b[0mmin\u001b[0m \u001b[1;33m=\u001b[0m \u001b[0mnlist\u001b[0m\u001b[1;33m[\u001b[0m\u001b[0mi\u001b[0m\u001b[1;33m]\u001b[0m\u001b[1;33m\u001b[0m\u001b[0m\n\u001b[0;32m     11\u001b[0m     \u001b[1;32melse\u001b[0m\u001b[1;33m:\u001b[0m\u001b[1;33m\u001b[0m\u001b[0m\n",
      "\u001b[1;31mIndexError\u001b[0m: list index out of range"
     ]
    }
   ],
   "source": [
    "#First element is considered as minimum\n",
    "\n",
    "nlist = [43,23,65,34,12,76,25]\n",
    "slist=[]\n",
    "n = len(nlist)\n",
    "i = 0\n",
    "while i<n:\n",
    "    j=i+1\n",
    "    if nlist[i]<nlist[j]:\n",
    "        min = nlist[i]\n",
    "    else:\n",
    "        min = nlist[j]\n",
    "    slist.append(min)\n",
    "    i = i + 1\n",
    "print(slist)    "
   ]
  },
  {
   "cell_type": "code",
   "execution_count": 1,
   "metadata": {},
   "outputs": [
    {
     "name": "stdout",
     "output_type": "stream",
     "text": [
      "20 10\n"
     ]
    }
   ],
   "source": [
    "a = 10\n",
    "b = 20\n",
    "a,b = b,a\n",
    "print(a,b)"
   ]
  },
  {
   "cell_type": "code",
   "execution_count": 2,
   "metadata": {},
   "outputs": [
    {
     "name": "stdout",
     "output_type": "stream",
     "text": [
      "20 10\n"
     ]
    }
   ],
   "source": [
    "a = 10\n",
    "b = 20\n",
    "temp = a\n",
    "a = b\n",
    "b = temp\n",
    "print(a,b)"
   ]
  },
  {
   "cell_type": "code",
   "execution_count": 15,
   "metadata": {},
   "outputs": [],
   "source": [
    "def SelectionSort(myList):\n",
    "    # From the first element t o the end of the list\n",
    "    # repeat the following steps\n",
    "    for i in range(0,len(myList)):\n",
    "        # First element is considered as minimum\n",
    "        minimum = i\n",
    "        #loop check the first element with the remaining elements\n",
    "        for j in range(i+1,len(myList)):\n",
    "            #checking if other element is lesser then tha minimum\n",
    "            if myList[j] < myList[minimum]:\n",
    "                #reassigning minimum\n",
    "                minimum = j\n",
    "            #interchange the elements\n",
    "        myList[i],myList[minimum] = myList[minimum],myList[i]\n",
    "    return(myList)"
   ]
  },
  {
   "cell_type": "code",
   "execution_count": 16,
   "metadata": {},
   "outputs": [
    {
     "data": {
      "text/plain": [
       "[12, 23, 25, 34, 43, 65, 76]"
      ]
     },
     "execution_count": 16,
     "metadata": {},
     "output_type": "execute_result"
    }
   ],
   "source": [
    "myList = [43,23,65,34,12,76,25]\n",
    "SelectionSort(myList)"
   ]
  },
  {
   "cell_type": "code",
   "execution_count": 18,
   "metadata": {},
   "outputs": [],
   "source": [
    "# Write a function to take a list  of +ve nos and -ve nos and replace -ve nos by 0\n",
    "\n",
    "def rep_neg(val):\n",
    "    if val<0:\n",
    "        out = 0\n",
    "    else:\n",
    "        out = val\n",
    "    return out"
   ]
  },
  {
   "cell_type": "code",
   "execution_count": 21,
   "metadata": {},
   "outputs": [
    {
     "name": "stdout",
     "output_type": "stream",
     "text": [
      "0\n",
      "100\n"
     ]
    }
   ],
   "source": [
    "print(rep_neg(-100))\n",
    "print(rep_neg(100))"
   ]
  },
  {
   "cell_type": "code",
   "execution_count": 25,
   "metadata": {},
   "outputs": [
    {
     "name": "stdout",
     "output_type": "stream",
     "text": [
      "[0, 0, 0, 0, 75, 90, 80]\n"
     ]
    }
   ],
   "source": [
    "numList = [-5,-2,-3,-100,75,90,80]\n",
    "for i in range(0,len(numList)):\n",
    "    numList[i]=rep_neg(numList[i])\n",
    "print(numList)"
   ]
  },
  {
   "cell_type": "code",
   "execution_count": 27,
   "metadata": {},
   "outputs": [
    {
     "name": "stdout",
     "output_type": "stream",
     "text": [
      "[0, 0, 0, 0, 75, 90, 80]\n"
     ]
    }
   ],
   "source": [
    "numList = [-5,-2,-3,-100,75,90,80]\n",
    "out = [i if i>0 else 0 for i in numList]\n",
    "print(out)"
   ]
  },
  {
   "cell_type": "code",
   "execution_count": 28,
   "metadata": {},
   "outputs": [],
   "source": [
    "def repneg_c(myList):\n",
    "    out = [i if i>0 else 0 for i in numList]\n",
    "    return(out)"
   ]
  },
  {
   "cell_type": "code",
   "execution_count": 29,
   "metadata": {},
   "outputs": [
    {
     "data": {
      "text/plain": [
       "[0, 0, 0, 0, 75, 90, 80]"
      ]
     },
     "execution_count": 29,
     "metadata": {},
     "output_type": "execute_result"
    }
   ],
   "source": [
    "p = [-5,-2,-3,-100,75,90,80]\n",
    "repneg_c(p)"
   ]
  },
  {
   "cell_type": "code",
   "execution_count": 30,
   "metadata": {},
   "outputs": [
    {
     "data": {
      "text/plain": [
       "Ellipsis"
      ]
     },
     "execution_count": 30,
     "metadata": {},
     "output_type": "execute_result"
    }
   ],
   "source": [
    "...\n",
    "#Map : Apply a function to every elements of the list\n",
    "#map(function to be append,list)\n",
    "..."
   ]
  },
  {
   "cell_type": "code",
   "execution_count": 31,
   "metadata": {},
   "outputs": [],
   "source": [
    "def Fahrenheit(T):\n",
    "    f = round((float(9/5)*T + 32),2)\n",
    "    return f"
   ]
  },
  {
   "cell_type": "code",
   "execution_count": 32,
   "metadata": {},
   "outputs": [
    {
     "name": "stdout",
     "output_type": "stream",
     "text": [
      "[97.7, 98.6, 99.5, 100.4, 102.2]\n"
     ]
    }
   ],
   "source": [
    "temperatures = [36.5,37,37.5,38,39]\n",
    "F = map(Fahrenheit,temperatures)\n",
    "print(list(F))"
   ]
  },
  {
   "cell_type": "code",
   "execution_count": 33,
   "metadata": {},
   "outputs": [
    {
     "name": "stdout",
     "output_type": "stream",
     "text": [
      "[97.7, 98.6, 99.5, 100.4, 102.2]\n"
     ]
    }
   ],
   "source": [
    "temperatures1 = [36.5,37,37.5,38,39]\n",
    "F = [round((float(9/5)*temp + 32),2) for temp in temperatures1]\n",
    "print(F)"
   ]
  },
  {
   "cell_type": "code",
   "execution_count": 34,
   "metadata": {},
   "outputs": [
    {
     "name": "stdout",
     "output_type": "stream",
     "text": [
      "[97.7, 98.6, 99.5, 100.4, 102.2]\n"
     ]
    }
   ],
   "source": [
    "temperatures2 = [36.5,37,37.5,38,39]\n",
    "F1 = map(lambda T :round((float(9/5)*T + 32),2) ,temperatures2)\n",
    "print(list(F1))"
   ]
  },
  {
   "cell_type": "code",
   "execution_count": 35,
   "metadata": {},
   "outputs": [
    {
     "name": "stdout",
     "output_type": "stream",
     "text": [
      "[2, 6, 8, 10]\n"
     ]
    }
   ],
   "source": [
    "lst = [2,3,5,6,8,7,9,10]\n",
    "result = filter(lambda i : i%2==0,lst)\n",
    "print(list(result))"
   ]
  },
  {
   "cell_type": "code",
   "execution_count": 36,
   "metadata": {},
   "outputs": [
    {
     "name": "stdout",
     "output_type": "stream",
     "text": [
      "[2, 6, 8, 10]\n"
     ]
    }
   ],
   "source": [
    "result = [i for i in lst if i%2==0]\n",
    "print(result)"
   ]
  },
  {
   "cell_type": "code",
   "execution_count": 37,
   "metadata": {},
   "outputs": [],
   "source": [
    "def isPrime(number):\n",
    "    count = 2\n",
    "    isPrime = 1 # The number is assumed to be Prime\n",
    "    while count <= number//2:\n",
    "        if number%count == 0:\n",
    "            isPrime = 0 # the number is not prime\n",
    "            break\n",
    "        else:\n",
    "            count = count + 1\n",
    "    if isPrime == 1:\n",
    "        return True\n",
    "    else:\n",
    "        return False"
   ]
  },
  {
   "cell_type": "code",
   "execution_count": 42,
   "metadata": {},
   "outputs": [
    {
     "name": "stdout",
     "output_type": "stream",
     "text": [
      "[1, 2, 3, 5, 7, 11, 13, 17, 19, 23, 29, 31, 37, 41, 43, 47, 53, 59, 61, 67, 71, 73, 79, 83, 89, 97]\n"
     ]
    }
   ],
   "source": [
    "s=list(range(1,100))\n",
    "r = filter(isPrime,s)\n",
    "print(list(r))"
   ]
  },
  {
   "cell_type": "code",
   "execution_count": 41,
   "metadata": {},
   "outputs": [
    {
     "data": {
      "text/plain": [
       "[53, 59, 61, 67, 71, 73, 79, 83, 89, 97]"
      ]
     },
     "execution_count": 41,
     "metadata": {},
     "output_type": "execute_result"
    }
   ],
   "source": [
    "list(filter(isPrime,range(50,100)))"
   ]
  },
  {
   "cell_type": "code",
   "execution_count": 25,
   "metadata": {},
   "outputs": [
    {
     "name": "stdout",
     "output_type": "stream",
     "text": [
      "[2.5, 2.0, 3.5, 4.5, 6.0, 7.5, 11.0, 37.5, 50.0, 53.5]\n",
      "[5, 15, 75, 100]\n",
      "[1.67, 2.0, 2.33, 3.0, 6.0, 5.0, 11.0, 25.0, 50.0, 35.67]\n",
      "[16, 144, 484, 10000]\n",
      "[100, 107]\n",
      "[]\n"
     ]
    }
   ],
   "source": [
    "num = [5,4,7,9,12,15,22,75,100,107]\n",
    "\n",
    "# 1) Form a list by dividing every element by 2\n",
    "q1 = map(lambda T: T/2,num)\n",
    "print(list(q1))\n",
    "\n",
    "# 2) Form a list of all elements divisible by 3\n",
    "q2 = filter(lambda i:i%5==0,num)\n",
    "print(list(q2))\n",
    "\n",
    "# 3) Form a list for all elements such that dividing even number by 2 and odd number by 3\n",
    "q3 = map(lambda i : round(i/2,2) if i%2==0 else round(i/3,2),num)\n",
    "print(list(q3))\n",
    "\n",
    "# 4) Form a list of all even numbers by multiplying by itself\n",
    "q4_1 = filter(lambda i : i%2 == 0, num)\n",
    "q4 = map(lambda i : i*i,list(q4_1))\n",
    "print(list(q4))\n",
    "\n",
    "# 5)  For all 3 digit number divide the number by 2\n",
    "\n",
    "q5_1 = filter(lambda i : len(str(i))==3,num)\n",
    "q5 = map(lambda i : i/2,list(q5_1))\n",
    "print(list(q5))"
   ]
  },
  {
   "cell_type": "code",
   "execution_count": 35,
   "metadata": {},
   "outputs": [
    {
     "name": "stdout",
     "output_type": "stream",
     "text": [
      "[5, 4, 7, 9, 12, 15, 22, 75, 100, 107]\n",
      "[50.0, 53.5]\n"
     ]
    }
   ],
   "source": [
    "# 5)  For all 3 digit number divide the number by 2\n",
    "print(num)\n",
    "q5_1 = filter(lambda i : len(str(i))==3,num)\n",
    "q5 = map(lambda i : i/2,q5_1)\n",
    "print(list(q5))\n"
   ]
  },
  {
   "cell_type": "code",
   "execution_count": 37,
   "metadata": {},
   "outputs": [
    {
     "data": {
      "text/plain": [
       "356"
      ]
     },
     "execution_count": 37,
     "metadata": {},
     "output_type": "execute_result"
    }
   ],
   "source": [
    "from functools import reduce\n",
    "reduce(lambda x,y: x+y,num)"
   ]
  },
  {
   "cell_type": "code",
   "execution_count": 38,
   "metadata": {},
   "outputs": [
    {
     "data": {
      "text/plain": [
       "102"
      ]
     },
     "execution_count": 38,
     "metadata": {},
     "output_type": "execute_result"
    }
   ],
   "source": [
    "reduce(lambda a,b : a if a>b else b,[47,11,42,102,13])"
   ]
  },
  {
   "cell_type": "code",
   "execution_count": 47,
   "metadata": {},
   "outputs": [
    {
     "name": "stdout",
     "output_type": "stream",
     "text": [
      "[4, 5, 7, 9, 12, 15, 22, 75, 100, 107, 109]\n"
     ]
    }
   ],
   "source": [
    "num = [5,4,7,9,12,15,109,22,75,100,107]\n",
    "n = len(num)\n",
    "i=0\n",
    "p=[]\n",
    "while i<n:\n",
    "    s=reduce(lambda a,b : a if a<b else b,num)\n",
    "    p.append(s)\n",
    "    num.remove(s)\n",
    "    i = i + 1\n",
    "print(p)"
   ]
  },
  {
   "cell_type": "code",
   "execution_count": null,
   "metadata": {},
   "outputs": [],
   "source": [
    "# Using map,reduce,filter find:\n",
    "# mean,variance,variance\n",
    "# Factorial"
   ]
  },
  {
   "cell_type": "code",
   "execution_count": 52,
   "metadata": {},
   "outputs": [
    {
     "name": "stdout",
     "output_type": "stream",
     "text": [
      "aaa\n"
     ]
    }
   ],
   "source": [
    "a = 3\n",
    "b = 'a'\n",
    "print(a*b)"
   ]
  },
  {
   "cell_type": "code",
   "execution_count": null,
   "metadata": {},
   "outputs": [],
   "source": []
  }
 ],
 "metadata": {
  "kernelspec": {
   "display_name": "Python 3",
   "language": "python",
   "name": "python3"
  },
  "language_info": {
   "codemirror_mode": {
    "name": "ipython",
    "version": 3
   },
   "file_extension": ".py",
   "mimetype": "text/x-python",
   "name": "python",
   "nbconvert_exporter": "python",
   "pygments_lexer": "ipython3",
   "version": "3.6.4"
  }
 },
 "nbformat": 4,
 "nbformat_minor": 2
}
