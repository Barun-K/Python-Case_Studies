{
 "cells": [
  {
   "cell_type": "code",
   "execution_count": null,
   "metadata": {},
   "outputs": [],
   "source": [
    "# Post class assignments:"
   ]
  },
  {
   "cell_type": "code",
   "execution_count": 18,
   "metadata": {},
   "outputs": [
    {
     "name": "stdout",
     "output_type": "stream",
     "text": [
      "Enter 1st number : 1\n",
      "Enter 2nd number : 2\n",
      "Enter 3rd number : 3\n",
      "Enter 4rth number : 4\n",
      "Enter 5th number : 5\n",
      "Average of given 5 numbers :  3.0\n"
     ]
    }
   ],
   "source": [
    "# 1) Write a program to input 5 numbers and find the average of 5 numbers\n",
    "\n",
    "try:\n",
    "    n1 = float(input(\"Enter 1st number : \"))\n",
    "    n2 = float(input(\"Enter 2nd number : \"))\n",
    "    n3 = float(input(\"Enter 3rd number : \"))\n",
    "    n4 = float(input(\"Enter 4rth number : \"))\n",
    "    n5 = float(input(\"Enter 5th number : \"))\n",
    "\n",
    "    average = (n1 + n2 + n3 + n4 + n5)/5\n",
    "    print(\"Average of given 5 numbers : \",average)\n",
    "except:\n",
    "    print(\"Please enter numeric value\")\n"
   ]
  },
  {
   "cell_type": "code",
   "execution_count": 15,
   "metadata": {},
   "outputs": [
    {
     "name": "stdout",
     "output_type": "stream",
     "text": [
      "Enter 1st number : 1\n",
      "Enter 2nd number : 2\n",
      "Enter 3rd number : 3\n",
      "Enter 4rth number : 4\n",
      "Enter 5th number : 5\n",
      "4.0 is higher than average.\n",
      "5.0 is higher than average.\n"
     ]
    }
   ],
   "source": [
    "# 2) Write a program to input 5 numbers and print numbers which are above average\n",
    "\n",
    "try:\n",
    "    n1 = float(input(\"Enter 1st number : \"))\n",
    "    n2 = float(input(\"Enter 2nd number : \"))\n",
    "    n3 = float(input(\"Enter 3rd number : \"))\n",
    "    n4 = float(input(\"Enter 4rth number : \"))\n",
    "    n5 = float(input(\"Enter 5th number : \"))\n",
    "\n",
    "    average = (n1 + n2 + n3 + n4 + n5)/5\n",
    "    if(n1>average):\n",
    "        print(str(n1) + \" is higher than average.\")\n",
    "    if(n2>average):\n",
    "        print(str(n2) + \" is higher than average.\")\n",
    "    if(n3>average):\n",
    "        print(str(n3) + \" is higher than average.\")\n",
    "    if(n4>average):\n",
    "        print(str(n4) + \" is higher than average.\")\n",
    "    if(n5>average):\n",
    "        print(str(n5) + \" is higher than average.\")\n",
    "except:\n",
    "    print(\"Please enter numeric value\")"
   ]
  },
  {
   "cell_type": "code",
   "execution_count": 16,
   "metadata": {},
   "outputs": [
    {
     "name": "stdout",
     "output_type": "stream",
     "text": [
      "Enter 1st number : 1\n",
      "Enter 2nd number : 2\n",
      "Enter 3rd number : 3\n",
      "Enter 4rth number : 4\n",
      "Enter 5th number : 5\n",
      "2.0 is even number.\n",
      "4.0 is even number.\n"
     ]
    }
   ],
   "source": [
    "# 3) Write a program to input 5 numbers and print even numbers\n",
    "\n",
    "try:\n",
    "    n1 = float(input(\"Enter 1st number : \"))\n",
    "    n2 = float(input(\"Enter 2nd number : \"))\n",
    "    n3 = float(input(\"Enter 3rd number : \"))\n",
    "    n4 = float(input(\"Enter 4rth number : \"))\n",
    "    n5 = float(input(\"Enter 5th number : \"))\n",
    "\n",
    "    if(n1%2==0):\n",
    "        print(str(n1) + \" is even number.\")\n",
    "    if(n2%2==0):\n",
    "        print(str(n2) + \" is even number.\")\n",
    "    if(n3%2==0):\n",
    "        print(str(n3) + \" is even number.\")\n",
    "    if(n4%2==0):\n",
    "        print(str(n4) + \" is even number.\")\n",
    "    if(n5%2==0):\n",
    "        print(str(n5) + \" is even number.\")\n",
    "except:\n",
    "    print(\"Please enter numeric value\")"
   ]
  },
  {
   "cell_type": "code",
   "execution_count": 17,
   "metadata": {},
   "outputs": [
    {
     "name": "stdout",
     "output_type": "stream",
     "text": [
      "Enter 1st number : 1\n",
      "Enter 2nd number : 2\n",
      "Enter 3rd number : 3\n",
      "Enter 4rth number : 4\n",
      "Enter 5th number : 5\n",
      "5.0 : Given number was Odd.\n",
      "6.0 : Given number was even.\n",
      "15.0 : Given number was Odd.\n",
      "12.0 : Given number was even.\n",
      "25.0 : Given number was Odd.\n"
     ]
    }
   ],
   "source": [
    "# 4) Write a program to input 5 numbers and multiply even numbers by 3 and odd numbers by 5\n",
    "\n",
    "try:\n",
    "    n1 = float(input(\"Enter 1st number : \"))\n",
    "    n2 = float(input(\"Enter 2nd number : \"))\n",
    "    n3 = float(input(\"Enter 3rd number : \"))\n",
    "    n4 = float(input(\"Enter 4rth number : \"))\n",
    "    n5 = float(input(\"Enter 5th number : \"))\n",
    "\n",
    "    if(n1%2==0):\n",
    "        print(str(n1*3) + \" : Given number was even.\")\n",
    "    else:\n",
    "        print(str(n1*5) + \" : Given number was Odd.\")\n",
    "    if(n2%2==0):\n",
    "        print(str(n2*3) + \" : Given number was even.\")\n",
    "    else:\n",
    "        print(str(n2*5) + \" : Given number was Odd.\")\n",
    "    if(n3%2==0):\n",
    "        print(str(n3*3) + \" : Given number was even.\")\n",
    "    else:\n",
    "        print(str(n3*5) + \" : Given number was Odd.\")\n",
    "    if(n4%2==0):\n",
    "        print(str(n4*3) + \" : Given number was even.\")\n",
    "    else:\n",
    "        print(str(n4*5) + \" : Given number was Odd.\")\n",
    "    if(n5%2==0):\n",
    "        print(str(n5*3) + \" : Given number was even.\")\n",
    "    else:\n",
    "        print(str(n5*5) + \" : Given number was Odd.\")\n",
    "except:\n",
    "    print(\"Please enter numeric value\")"
   ]
  },
  {
   "cell_type": "code",
   "execution_count": 2,
   "metadata": {},
   "outputs": [
    {
     "name": "stdout",
     "output_type": "stream",
     "text": [
      "Enter a number : 1\n",
      "Enter a number : 300\n",
      "Enter a number : 400\n",
      "Enter a number : 2\n",
      "Enter a number : 23\n",
      "Enter a number : 32\n",
      "Enter a number : 33\n",
      "Enter a number : 35\n",
      "Enter a number : 43\n",
      "Enter a number : 22\n",
      "Enter a number : 45\n",
      "Enter a number : 42\n",
      "Enter a number : 43\n",
      "Enter a number : 26\n",
      "Enter a number : 28\n",
      "[1, 300, 400, 2, 23, 32, 33, 35, 43, 22, 45, 42, 43, 26, 28]\n",
      "1075\n",
      "Average of the numbers :  71.66666666666667\n",
      "Variance of the numbers :  12417.422222222223\n",
      "Standard Deviation of the numbers :  111.43348788502594\n",
      "300\n",
      "400\n"
     ]
    }
   ],
   "source": [
    "# 5) Write a program to input 15 numbers: average,variance,sd,numbers are >  or < (2 * sd) from the mean\n",
    "    \n",
    "count = 1\n",
    "numList = []\n",
    "while count <= 15:\n",
    "    number = int(input(\"Enter a number : \"))\n",
    "    numList.append(number)\n",
    "    count = count+1\n",
    "# Use numList to find the average, variance and standard deviation\n",
    "print(numList)\n",
    "# Average\n",
    "\n",
    "i = 0\n",
    "sumList = 0\n",
    "while(i<15):\n",
    "    sumList = sumList + numList[i]\n",
    "    i = i+1\n",
    "print(sumList)\n",
    "avg = sumList/15\n",
    "\n",
    "# Variance\n",
    "\n",
    "numerator = 0\n",
    "i = 0\n",
    "while(i<15):\n",
    "    numerator = numerator + (numList[i] - avg)**2\n",
    "    i = i + 1\n",
    "va = numerator/15\n",
    "\n",
    "# Standard Variance\n",
    "\n",
    "sd = va**0.5\n",
    "\n",
    "print(\"Average of the numbers : \",avg)\n",
    "print(\"Variance of the numbers : \",va)\n",
    "print(\"Standard Deviation of the numbers : \",sd)\n",
    "\n",
    "i=0\n",
    "while(i<15):\n",
    "    if((numList[i] < (avg - (2*sd))) or (numList[i] > (avg + (2*sd)))):\n",
    "       print(numList[i])\n",
    "    i = i+1"
   ]
  },
  {
   "cell_type": "code",
   "execution_count": 47,
   "metadata": {},
   "outputs": [
    {
     "name": "stdout",
     "output_type": "stream",
     "text": [
      "Enter Value 1 : b\n",
      "Enter Value 2 : b\n",
      "Enter operation (+,-,*,/,//,**) : *\n",
      "Please do not enter both input as string\n"
     ]
    }
   ],
   "source": [
    "# 6) Write a program to implement a calculator:\n",
    "\n",
    "a = input(\"Enter Value 1 : \")\n",
    "b = input(\"Enter Value 2 : \")\n",
    "op = input(\"Enter operation (+,-,*,/,//,**) : \")\n",
    "\n",
    "\n",
    "if(op == '+'):\n",
    "    try:\n",
    "        p = float(a)\n",
    "        q = float(b)\n",
    "        sum = float(a)+float(b)\n",
    "        print('Sum of numbers : ',sum)\n",
    "    except:\n",
    "        sum = a + b\n",
    "        print('Concatenation for strings : ',sum)\n",
    "elif(op == '-'):\n",
    "    if(type(float(a)) == float and type(float(b)) == float):\n",
    "        Diff = float(a) - float(b)\n",
    "        print('Difference between numbers : ',Diff)\n",
    "    else:\n",
    "        print(\"Enter numeric inputs\")\n",
    "elif(op == '*'):\n",
    "    try:\n",
    "        m = float(a)\n",
    "        n = float(b)\n",
    "        mult = m*n\n",
    "        print('Multiplication of numbers : ',mult)\n",
    "    except:\n",
    "        try:\n",
    "            m1 = int(a)\n",
    "            n1 = str(b)\n",
    "            mult = m1*n1\n",
    "            print('Concatenation for inputs : ',mult)\n",
    "        except:\n",
    "            try:\n",
    "                m2 = str(a)\n",
    "                n2 = int(b)\n",
    "                mult = m2*n2\n",
    "                print('Concatenation for inputs : ',mult)\n",
    "            except:\n",
    "                print(\"Please do not enter both input as string\")\n",
    "elif(op == '/'):\n",
    "    if(type(float(a)) == float and type(float(b)) == float):\n",
    "        div = float(a)/float(b)\n",
    "        print('Division of numbers : ',div)\n",
    "    else:\n",
    "        print(\"Enter numeric inputs\")\n",
    "elif(op == '//'):\n",
    "    if(type(float(a)) == float and type(float(b)) == float):\n",
    "        floor = float(a)//float(b)\n",
    "        print('Floor of inputs : ',floor)\n",
    "    else:\n",
    "        print(\"Enter numeric inputs\")\n",
    "elif(op == '**'):\n",
    "    if(type(float(a)) == float and type(float(b)) == float):\n",
    "        pow = float(a)**float(b)\n",
    "        print('input1**input2 : ',pow)\n",
    "    else:\n",
    "        print(\"Enter numeric inputs\")"
   ]
  },
  {
   "cell_type": "markdown",
   "metadata": {},
   "source": [
    "a = input(\"Enter a\")\n",
    "type(a)\n"
   ]
  },
  {
   "cell_type": "code",
   "execution_count": null,
   "metadata": {},
   "outputs": [],
   "source": []
  }
 ],
 "metadata": {
  "kernelspec": {
   "display_name": "Python 3",
   "language": "python",
   "name": "python3"
  },
  "language_info": {
   "codemirror_mode": {
    "name": "ipython",
    "version": 3
   },
   "file_extension": ".py",
   "mimetype": "text/x-python",
   "name": "python",
   "nbconvert_exporter": "python",
   "pygments_lexer": "ipython3",
   "version": "3.6.4"
  }
 },
 "nbformat": 4,
 "nbformat_minor": 2
}
