{
 "cells": [
  {
   "cell_type": "code",
   "execution_count": 2,
   "metadata": {},
   "outputs": [
    {
     "ename": "SyntaxError",
     "evalue": "invalid syntax (<ipython-input-2-eebd65fb2f26>, line 2)",
     "output_type": "error",
     "traceback": [
      "\u001b[1;36m  File \u001b[1;32m\"<ipython-input-2-eebd65fb2f26>\"\u001b[1;36m, line \u001b[1;32m2\u001b[0m\n\u001b[1;33m    Constructs type - Sequential,Conditional,Iterative\u001b[0m\n\u001b[1;37m                  ^\u001b[0m\n\u001b[1;31mSyntaxError\u001b[0m\u001b[1;31m:\u001b[0m invalid syntax\n"
     ]
    }
   ],
   "source": [
    "...\n",
    "Constructs type - Sequential,Conditional,Iterative\n",
    "Iterative - for and while\n",
    "\n",
    "while - execute a set of statement till the condition is true\n",
    "for - execute a set of statemnt for a list of values\n",
    "..."
   ]
  },
  {
   "cell_type": "code",
   "execution_count": null,
   "metadata": {},
   "outputs": [],
   "source": [
    "# While loop\n",
    "\n",
    "n = 5\n",
    "while n>0:\n",
    "    print(n)\n",
    "    n = n-1\n",
    "print(\"outside while!\")"
   ]
  },
  {
   "cell_type": "code",
   "execution_count": null,
   "metadata": {},
   "outputs": [],
   "source": [
    "# Exiting a loop with a break\n",
    "\n",
    "n = 10\n",
    "while True:\n",
    "    print(n)\n",
    "    n = n-1\n",
    "    if(n==0):\n",
    "        break\n",
    "print(\"Done!\")"
   ]
  },
  {
   "cell_type": "code",
   "execution_count": null,
   "metadata": {},
   "outputs": [],
   "source": [
    "while True:\n",
    "    line = input(\"Enter the input : \")\n",
    "    if line == '#':\n",
    "        continue\n",
    "    if line == 'done':\n",
    "        break\n",
    "    print(line)\n",
    "print('Done!')"
   ]
  },
  {
   "cell_type": "code",
   "execution_count": null,
   "metadata": {},
   "outputs": [],
   "source": [
    "# Write a python program to check a number is prime or not\n",
    "\n",
    "n = int(input(\"Enter a integer : \"))\n",
    "i = n-1\n",
    "c = 0\n",
    "while(i>1):\n",
    "    if(n%i==0):\n",
    "        break\n",
    "        c = c+1\n",
    "    else:\n",
    "        i = i-1\n",
    "if(c>1):\n",
    "    print(\"The number is not Prime\")\n",
    "else:\n",
    "    print(\"The number is prime\")        "
   ]
  },
  {
   "cell_type": "code",
   "execution_count": 2,
   "metadata": {},
   "outputs": [
    {
     "name": "stdout",
     "output_type": "stream",
     "text": [
      "Enter a integer13\n",
      "The number is Prime\n"
     ]
    }
   ],
   "source": [
    "number = int(input(\"Enter a integer\"))\n",
    "count = 2\n",
    "isPrime = 1 # The number is assumed to be prime\n",
    "while(count <= number//2):\n",
    "    if(number % count == 0):\n",
    "        isPrime = 0 # The number is not prime\n",
    "        break\n",
    "    else:\n",
    "        count = count + 1\n",
    "if(isPrime == 1):\n",
    "    print(\"The number is Prime\")\n",
    "else:\n",
    "    print(\"The number is not prime\")"
   ]
  },
  {
   "cell_type": "code",
   "execution_count": 1,
   "metadata": {},
   "outputs": [
    {
     "name": "stdout",
     "output_type": "stream",
     "text": [
      "Enter a integer14\n",
      "The number is Prime 17\n",
      "The number is Prime 19\n",
      "The number is Prime 23\n",
      "The number is Prime 29\n",
      "The number is Prime 31\n"
     ]
    }
   ],
   "source": [
    "# Given a number, find next 5 prime numbers\n",
    "\n",
    "number = int(input(\"Enter a integer\"))\n",
    "c = 1\n",
    "while(c <= 5):\n",
    "    number = number + 1\n",
    "    count = 2\n",
    "    isPrime = 1 # The number is assumed to be prime\n",
    "    while(count <= number//2):\n",
    "        if(number % count == 0):\n",
    "            isPrime = 0 # The number is not prime\n",
    "            break\n",
    "        else:\n",
    "            count = count + 1\n",
    "    if(isPrime == 1):\n",
    "        print(\"The number is Prime\", number)\n",
    "        c = c + 1"
   ]
  },
  {
   "cell_type": "code",
   "execution_count": 6,
   "metadata": {},
   "outputs": [
    {
     "name": "stdout",
     "output_type": "stream",
     "text": [
      "Enter start number : 13\n",
      "Enter end number : 47\n",
      "The number is Prime 13\n",
      "The number is Prime 17\n",
      "The number is Prime 19\n",
      "The number is Prime 23\n",
      "The number is Prime 29\n",
      "The number is Prime 31\n",
      "The number is Prime 37\n",
      "The number is Prime 41\n",
      "The number is Prime 43\n",
      "The number is Prime 47\n"
     ]
    }
   ],
   "source": [
    "# Given start and end number, find prime numbers between them.\n",
    "\n",
    "number1 = int(input(\"Enter start number : \"))\n",
    "number2 = int(input(\"Enter end number : \"))\n",
    "while(number1 <= number2):\n",
    "    count = 2\n",
    "    isPrime = 1 # The number is assumed to be prime\n",
    "    while(count <= number1//2):\n",
    "        if(number1 % count == 0):\n",
    "            isPrime = 0 # The number is not prime\n",
    "            break\n",
    "        else:\n",
    "            count = count + 1\n",
    "    if(isPrime == 1):\n",
    "        print(\"The number is Prime\", number1)\n",
    "    number1 = number1 + 1"
   ]
  },
  {
   "cell_type": "code",
   "execution_count": 9,
   "metadata": {},
   "outputs": [
    {
     "name": "stdout",
     "output_type": "stream",
     "text": [
      "Enter start number : 3\n",
      "Enter end number : 11\n",
      "The number is Prime 3\n",
      "The number is Prime 5\n",
      "The number is Prime 7\n",
      "The number is Prime 11\n",
      "Total no. of prime nos. 4\n"
     ]
    }
   ],
   "source": [
    "# Given start and end number, find prime numbers between them.\n",
    "\n",
    "number1 = int(input(\"Enter start number : \"))\n",
    "number2 = int(input(\"Enter end number : \"))\n",
    "c = 0\n",
    "while(number1 <= number2):\n",
    "    count = 2\n",
    "    isPrime = 1 # The number is assumed to be prime\n",
    "    while(count <= number1//2):\n",
    "        if(number1 % count == 0):\n",
    "            isPrime = 0 # The number is not prime\n",
    "            break\n",
    "        else:\n",
    "            count = count + 1\n",
    "    if(isPrime == 1):\n",
    "        print(\"The number is Prime\", number1)\n",
    "        c = c + 1\n",
    "    number1 = number1 + 1\n",
    "print(\"Total no. of prime nos.\",c)"
   ]
  }
 ],
 "metadata": {
  "kernelspec": {
   "display_name": "Python 3",
   "language": "python",
   "name": "python3"
  },
  "language_info": {
   "codemirror_mode": {
    "name": "ipython",
    "version": 3
   },
   "file_extension": ".py",
   "mimetype": "text/x-python",
   "name": "python",
   "nbconvert_exporter": "python",
   "pygments_lexer": "ipython3",
   "version": "3.6.4"
  }
 },
 "nbformat": 4,
 "nbformat_minor": 2
}
